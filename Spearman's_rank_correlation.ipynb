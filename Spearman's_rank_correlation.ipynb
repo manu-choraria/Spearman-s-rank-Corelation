{
  "nbformat": 4,
  "nbformat_minor": 0,
  "metadata": {
    "colab": {
      "name": "Spearman's rank correlation.ipynb",
      "provenance": [],
      "collapsed_sections": [],
      "include_colab_link": true
    },
    "kernelspec": {
      "name": "python3",
      "display_name": "Python 3"
    },
    "language_info": {
      "name": "python"
    }
  },
  "cells": [
    {
      "cell_type": "markdown",
      "metadata": {
        "id": "view-in-github",
        "colab_type": "text"
      },
      "source": [
        "<a href=\"https://colab.research.google.com/github/manu-choraria/Spearman-s-rank-Corelation/blob/main/Spearman's_rank_correlation.ipynb\" target=\"_parent\"><img src=\"https://colab.research.google.com/assets/colab-badge.svg\" alt=\"Open In Colab\"/></a>"
      ]
    },
    {
      "cell_type": "markdown",
      "source": [
        "To import libraries"
      ],
      "metadata": {
        "id": "LY5cs7Df4zmS"
      }
    },
    {
      "cell_type": "code",
      "source": [
        "from scipy.stats import spearmanr\n",
        "import pandas as pd"
      ],
      "metadata": {
        "id": "p-R3ekRn4_Qd"
      },
      "execution_count": null,
      "outputs": []
    },
    {
      "cell_type": "markdown",
      "source": [
        "To import File and print top 10 lines"
      ],
      "metadata": {
        "id": "WV-Z_lvs6peo"
      }
    },
    {
      "cell_type": "code",
      "source": [
        "file=pd.read_csv(\"DAV_1_Data.csv\")\n",
        "print(file.head(8))"
      ],
      "metadata": {
        "id": "yYf7UZsR5JoM",
        "colab": {
          "base_uri": "https://localhost:8080/"
        },
        "outputId": "848a9894-a513-4fca-d140-c7bd09182bac"
      },
      "execution_count": null,
      "outputs": [
        {
          "output_type": "stream",
          "name": "stdout",
          "text": [
            "   Enrollment_number               Name Gender  Physics   BEE   BME   PPS  \\\n",
            "0       1.908401e+11      Manish Awtani      M     69.0  62.0  66.0  63.0   \n",
            "1       1.908401e+11     Jeet Bhalodiya      M     60.0  63.0  58.0  55.0   \n",
            "2       1.908401e+11       Parth Bhatia      M     56.0  58.0  52.0  53.0   \n",
            "3       1.908401e+11      Keertan Bhatt      M     62.0  52.0  58.0  60.0   \n",
            "4       1.908401e+11       Yash bhavsar      M     65.0  45.0  32.0  56.0   \n",
            "5       1.908401e+11   Vinit Changawala      M     69.0  68.0  62.0  60.0   \n",
            "6       1.908401e+11        Jay chauhan      M     57.0  62.0  55.0  59.0   \n",
            "7       1.908401e+11  Divyesh Chhatrani      M     61.0  66.0  67.0  64.0   \n",
            "\n",
            "   Maths2  Sem1_SPI   PDS  ...  Address  Unnamed: 17  Unnamed: 18  \\\n",
            "0    62.0      9.00  69.0  ...    surat          NaN          NaN   \n",
            "1    55.0      5.82  57.0  ...    surat          NaN          NaN   \n",
            "2    63.0      5.64  54.0  ...    surat          NaN          NaN   \n",
            "3    61.0      5.86  65.0  ...    surat          NaN          NaN   \n",
            "4    54.0      5.04  65.0  ...    surat          NaN          NaN   \n",
            "5    65.0      6.48  65.0  ...    surat          NaN          NaN   \n",
            "6    61.0      5.88  67.0  ...  bardoli          NaN          NaN   \n",
            "7    63.0      9.53  66.0  ...   mahuwa          NaN          NaN   \n",
            "\n",
            "   Unnamed: 19  Unnamed: 20  Unnamed: 21 Unnamed: 22  Unnamed: 23  \\\n",
            "0          NaN          NaN          NaN         NaN          NaN   \n",
            "1          NaN          NaN          NaN         NaN          NaN   \n",
            "2          NaN          NaN          NaN         NaN          NaN   \n",
            "3          NaN          NaN          NaN         NaN          NaN   \n",
            "4          NaN          NaN          NaN         NaN          NaN   \n",
            "5          NaN          NaN          NaN         NaN          NaN   \n",
            "6          NaN          NaN          NaN         NaN          NaN   \n",
            "7          NaN          NaN          NaN         NaN          NaN   \n",
            "\n",
            "   Unnamed: 24  Unnamed: 25  \n",
            "0          NaN          NaN  \n",
            "1          NaN          NaN  \n",
            "2          NaN          NaN  \n",
            "3          NaN          NaN  \n",
            "4          NaN          NaN  \n",
            "5          NaN          NaN  \n",
            "6          NaN          NaN  \n",
            "7          NaN          NaN  \n",
            "\n",
            "[8 rows x 26 columns]\n"
          ]
        }
      ]
    },
    {
      "cell_type": "markdown",
      "source": [
        "To extract columns"
      ],
      "metadata": {
        "id": "ob-5tCGE7_cI"
      }
    },
    {
      "cell_type": "code",
      "source": [
        "gender=file.loc[:,'Gender']\n",
        "location=file.loc[:,'Address']\n",
        "sem1_marks=file.loc[:,'Sem1_SPI']\n",
        "sem2_marks=file.loc[:,'Sem2_SPI']"
      ],
      "metadata": {
        "id": "IhNYfMsU6dB-"
      },
      "execution_count": null,
      "outputs": []
    },
    {
      "cell_type": "markdown",
      "source": [
        "To find spearman relation between gender and sem1 marks"
      ],
      "metadata": {
        "id": "hdpKqGgf8Fvl"
      }
    },
    {
      "cell_type": "code",
      "source": [
        "coef1=spearmanr(gender,sem1_marks)\n",
        "print(\"Spearman rank correlation between Gender and Semester 1 marks is:\"+str(coef1[0]))"
      ],
      "metadata": {
        "id": "p9ghcvqz7Bx2",
        "colab": {
          "base_uri": "https://localhost:8080/"
        },
        "outputId": "e924016c-a686-4f34-f22e-8ab4db060bb7"
      },
      "execution_count": null,
      "outputs": [
        {
          "output_type": "stream",
          "name": "stdout",
          "text": [
            "Spearman rank correlation between Gender and Semester 1 marks is:nan\n"
          ]
        }
      ]
    },
    {
      "cell_type": "markdown",
      "source": [
        "To find spearman relation between gender and sem2 marks"
      ],
      "metadata": {
        "id": "xqTII1GpQCyp"
      }
    },
    {
      "cell_type": "code",
      "source": [
        "coef2=spearmanr(gender,sem2_marks)\n",
        "print(\"Spearman rank correlation between Gender and Semester 2 marks is:\"+str(coef2[0]))"
      ],
      "metadata": {
        "colab": {
          "base_uri": "https://localhost:8080/"
        },
        "id": "WmPgjwzKO9zS",
        "outputId": "34424455-b0b0-40c0-e218-bc93c3ee5d90"
      },
      "execution_count": null,
      "outputs": [
        {
          "output_type": "stream",
          "name": "stdout",
          "text": [
            "Spearman rank correlation between Gender and Semester 2 marks is:nan\n"
          ]
        }
      ]
    },
    {
      "cell_type": "markdown",
      "source": [
        "To find spearman relation between location and sem1 marks"
      ],
      "metadata": {
        "id": "2BYqMJZ1Qed3"
      }
    },
    {
      "cell_type": "code",
      "source": [
        "coef3=spearmanr(location,sem1_marks)\n",
        "print(\"Spearman rank correlation between Location and Semester 1 marks is:\"+str(coef3[0]))"
      ],
      "metadata": {
        "colab": {
          "base_uri": "https://localhost:8080/"
        },
        "id": "9KwYXVUeQ5tY",
        "outputId": "9914bfda-7126-4f01-914a-0dd7b86b2acd"
      },
      "execution_count": null,
      "outputs": [
        {
          "output_type": "stream",
          "name": "stdout",
          "text": [
            "Spearman rank correlation between Location and Semester 1 marks is:nan\n"
          ]
        }
      ]
    },
    {
      "cell_type": "markdown",
      "source": [
        "To find spearman relation between location and sem2 marks"
      ],
      "metadata": {
        "id": "XxWSwwh4RnFm"
      }
    },
    {
      "cell_type": "code",
      "source": [
        "coef4=spearmanr(location,sem2_marks)\n",
        "print(\"Spearman rank correlation between Location and Semester 2 marks is:\"+str(coef4[0]))"
      ],
      "metadata": {
        "colab": {
          "base_uri": "https://localhost:8080/"
        },
        "id": "8WJUl467RbcR",
        "outputId": "754725e8-b890-4115-e447-e0860b9fe782"
      },
      "execution_count": null,
      "outputs": [
        {
          "output_type": "stream",
          "name": "stdout",
          "text": [
            "Spearman rank correlation between Location and Semester 2 marks is:0.354224693469916\n"
          ]
        }
      ]
    },
    {
      "cell_type": "code",
      "source": [
        "cn_marks=file.loc[:,'CN']\n",
        "difficulty_levels=pd.Series([])\n",
        "for i in range(0,len(cn_marks)):\n",
        "  if(cn_marks[i]<=25):\n",
        "    difficulty_levels[i]=2\n",
        "  if(cn_marks[i]>25 and cn_marks[i]<55):\n",
        "    difficulty_levels[i]=1\n",
        "  if(cn_marks[i]>=55):\n",
        "    difficulty_levels[i]=0\n",
        "coef5=spearmanr(difficulty_levels, cn_marks)\n",
        "print(\"Spearman rank correlation between difficulty level and CN marks is:\"+str(coef5[0]))"
      ],
      "metadata": {
        "id": "HeTLq0kFRujK",
        "colab": {
          "base_uri": "https://localhost:8080/"
        },
        "outputId": "5a2028a3-6a6b-4607-f3ff-1b2bc1e41b2f"
      },
      "execution_count": null,
      "outputs": [
        {
          "output_type": "stream",
          "name": "stdout",
          "text": [
            "Spearman rank correlation between difficulty level and CN marks is:-0.8608222983899511\n"
          ]
        },
        {
          "output_type": "stream",
          "name": "stderr",
          "text": [
            "/usr/local/lib/python3.7/dist-packages/ipykernel_launcher.py:2: DeprecationWarning: The default dtype for empty Series will be 'object' instead of 'float64' in a future version. Specify a dtype explicitly to silence this warning.\n",
            "  \n"
          ]
        }
      ]
    }
  ]
}